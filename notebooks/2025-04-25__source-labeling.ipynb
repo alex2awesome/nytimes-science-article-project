{
 "cells": [
  {
   "cell_type": "code",
   "execution_count": 223,
   "id": "09e18c92-15ea-4ce6-8219-1d211054ae84",
   "metadata": {},
   "outputs": [],
   "source": [
    "import pandas as pd \n",
    "import warnings\n",
    "import pyperclip\n",
    "import json\n",
    "import os \n",
    "from openai import OpenAI\n",
    "import ast\n",
    "\n",
    "warnings.simplefilter(action='ignore')\n",
    "def simple_json_parse(j):\n",
    "    try:\n",
    "        return json.loads(j)\n",
    "    except:\n",
    "        try:\n",
    "            return ast.literal_eval(j)\n",
    "        except:\n",
    "            return None\n",
    "\n",
    "\n",
    "os.environ['OPENAI_API_KEY'] = open('/Users/spangher/.openai-bloomberg-project-key.txt').read().strip()\n",
    "client = OpenAI()\n",
    "\n",
    "def prompt_openai(prompt, model='gpt-4o-mini'):\n",
    "    completion = client.chat.completions.create(\n",
    "        model=model,\n",
    "        messages=[{\"role\": \"user\", \"content\": prompt}]\n",
    "    )\n",
    "    return completion.choices[0].message.content"
   ]
  },
  {
   "cell_type": "markdown",
   "id": "c2770bdb-c25c-436e-9a71-1d10e5f590c1",
   "metadata": {},
   "source": [
    "# Get Centrality and Narrative Role"
   ]
  },
  {
   "cell_type": "code",
   "execution_count": 126,
   "id": "60feb6b0-21ae-4c41-b208-1686d91474d0",
   "metadata": {},
   "outputs": [],
   "source": [
    "file_response = client.files.content(\"file-KVq4w5yxV4Y1tpxpCcjcRA\")\n",
    "with open('openai_batched_data/source_perspective_and_narrative_function_questions.jsonl', 'w') as f:\n",
    "    f.write(file_response.text)\n",
    "\n",
    "file_response = client.files.content(\"file-1B1uL3HyhNd3pkfmwVnrKE\")\n",
    "with open('openai_batched_data/source_centrality_redo.jsonl', 'w') as f:\n",
    "    f.write(file_response.text)\n",
    "\n",
    "file_response = client.files.content(\"file-YEdr7o96DNihEyvNNm5Ave\")\n",
    "with open('openai_batched_data/source_centrality_redo_2.jsonl', 'w') as f:\n",
    "    f.write(file_response.text)"
   ]
  },
  {
   "cell_type": "code",
   "execution_count": 140,
   "id": "d5294f44-3821-41c4-9d67-f5d3fd00d898",
   "metadata": {},
   "outputs": [],
   "source": [
    "response_df = pd.read_json('openai_batched_data/source_perspective_and_narrative_function_questions.jsonl', lines=True)\n",
    "cent_persp_df = pd.read_json('openai_batched_data/source_centrality_redo_2.jsonl', lines=True)"
   ]
  },
  {
   "cell_type": "code",
   "execution_count": 187,
   "id": "bcc67aaf-5b30-4c7e-a5a1-32622efa2b8b",
   "metadata": {},
   "outputs": [],
   "source": [
    "source_info_df = pd.read_json('../data/output_data/parsed_source_info.jsonl', lines=True)"
   ]
  },
  {
   "cell_type": "code",
   "execution_count": 141,
   "id": "d823e8d7-71df-4ffa-8567-2d6df9e01d68",
   "metadata": {},
   "outputs": [],
   "source": [
    "narr_df = response_df.loc[lambda df: df['custom_id'].str.contains('narrative-understanding')]\n",
    "# cent_persp_df = response_df.loc[lambda df: df['custom_id'].str.contains('centrality')]"
   ]
  },
  {
   "cell_type": "code",
   "execution_count": 144,
   "id": "c24d8f73-c57d-4d66-9266-f8ba77bdce4c",
   "metadata": {},
   "outputs": [],
   "source": [
    "for df in [narr_df, cent_persp_df]:\n",
    "    df['parsed_responses'] = (\n",
    "        df['response']\n",
    "         .str.get('body')\n",
    "         .str.get('choices')\n",
    "         .str.get(0)\n",
    "         .str.get('message')\n",
    "         .str.get('content')\n",
    "         # \n",
    "         .str.replace('```json', '').str.replace('```','').str.strip()\n",
    "         .apply(simple_json_parse)\n",
    "    )\n",
    "\n",
    "cent_persp_df = cent_persp_df.loc[lambda df: df['parsed_responses'].notnull()]\n",
    "narr_df = narr_df.loc[lambda df: df['parsed_responses'].notnull()]"
   ]
  },
  {
   "cell_type": "code",
   "execution_count": 145,
   "id": "f7b327b9-3d23-4e6b-925e-cac54ebd8785",
   "metadata": {},
   "outputs": [],
   "source": [
    "import ast "
   ]
  },
  {
   "cell_type": "code",
   "execution_count": 146,
   "id": "10596037-1d75-4c05-91d4-8c2b2fb9b369",
   "metadata": {},
   "outputs": [
    {
     "data": {
      "text/plain": [
       "(1036, 5)"
      ]
     },
     "execution_count": 146,
     "metadata": {},
     "output_type": "execute_result"
    }
   ],
   "source": [
    "cent_persp_df.shape"
   ]
  },
  {
   "cell_type": "markdown",
   "id": "5ce47938-43fe-4ef9-8012-6c6e2cede55a",
   "metadata": {},
   "source": [
    "# Narrative Function Exploration"
   ]
  },
  {
   "cell_type": "code",
   "execution_count": 201,
   "id": "19351c84-b871-4d79-9301-28d5627fa873",
   "metadata": {},
   "outputs": [],
   "source": [
    "narr_df['parsed_responses']\n",
    "\n",
    "narr_df_exp_df = (\n",
    "    narr_df\n",
    "        .explode('parsed_responses')\n",
    "        .loc[lambda df: df['parsed_responses'].notnull()]\n",
    "        .pipe(lambda df: pd.DataFrame(df['parsed_responses'].tolist(), index=df['custom_id']))\n",
    "        .reset_index()\n",
    ")"
   ]
  },
  {
   "cell_type": "code",
   "execution_count": 202,
   "id": "04b91b14-1f46-4a7a-b200-884accf1fa33",
   "metadata": {},
   "outputs": [
    {
     "data": {
      "text/html": [
       "<div>\n",
       "<style scoped>\n",
       "    .dataframe tbody tr th:only-of-type {\n",
       "        vertical-align: middle;\n",
       "    }\n",
       "\n",
       "    .dataframe tbody tr th {\n",
       "        vertical-align: top;\n",
       "    }\n",
       "\n",
       "    .dataframe thead th {\n",
       "        text-align: right;\n",
       "    }\n",
       "</style>\n",
       "<table border=\"1\" class=\"dataframe\">\n",
       "  <thead>\n",
       "    <tr style=\"text-align: right;\">\n",
       "      <th></th>\n",
       "      <th>custom_id</th>\n",
       "      <th>Name</th>\n",
       "      <th>Narrative Function</th>\n",
       "    </tr>\n",
       "  </thead>\n",
       "  <tbody>\n",
       "    <tr>\n",
       "      <th>0</th>\n",
       "      <td>narrative-understanding__0</td>\n",
       "      <td>Dr. Cameron Clifford</td>\n",
       "      <td>\"Protagonist/First-person Witness\": This sourc...</td>\n",
       "    </tr>\n",
       "    <tr>\n",
       "      <th>1</th>\n",
       "      <td>narrative-understanding__0</td>\n",
       "      <td>Cal Clifford</td>\n",
       "      <td>\"Emotional Anchor\": This source serves as the ...</td>\n",
       "    </tr>\n",
       "    <tr>\n",
       "      <th>2</th>\n",
       "      <td>narrative-understanding__0</td>\n",
       "      <td>Kelley Voss</td>\n",
       "      <td>\"Expert Critic\": This source is used as a subj...</td>\n",
       "    </tr>\n",
       "    <tr>\n",
       "      <th>3</th>\n",
       "      <td>narrative-understanding__0</td>\n",
       "      <td>Meg Mindlin</td>\n",
       "      <td>\"Science Communicator\": This source provides a...</td>\n",
       "    </tr>\n",
       "    <tr>\n",
       "      <th>4</th>\n",
       "      <td>narrative-understanding__0</td>\n",
       "      <td>Vincent Nijman</td>\n",
       "      <td>\"Industry Analyst\": This source contextualizes...</td>\n",
       "    </tr>\n",
       "    <tr>\n",
       "      <th>...</th>\n",
       "      <td>...</td>\n",
       "      <td>...</td>\n",
       "      <td>...</td>\n",
       "    </tr>\n",
       "    <tr>\n",
       "      <th>9042</th>\n",
       "      <td>narrative-understanding__1099</td>\n",
       "      <td>Samuel Scarpino</td>\n",
       "      <td>\"Expert Interpreter\": This source is used to g...</td>\n",
       "    </tr>\n",
       "    <tr>\n",
       "      <th>9043</th>\n",
       "      <td>narrative-understanding__1099</td>\n",
       "      <td>Andrew Bowman</td>\n",
       "      <td>\"Independent Corroborator\": This source is use...</td>\n",
       "    </tr>\n",
       "    <tr>\n",
       "      <th>9044</th>\n",
       "      <td>narrative-understanding__1099</td>\n",
       "      <td>Federal government scientists (unnamed)</td>\n",
       "      <td>\"Process Describers\": This source provides the...</td>\n",
       "    </tr>\n",
       "    <tr>\n",
       "      <th>9045</th>\n",
       "      <td>narrative-understanding__1099</td>\n",
       "      <td>Experts (unnamed)</td>\n",
       "      <td>\"Safety Emphasizers\": This source is used to p...</td>\n",
       "    </tr>\n",
       "    <tr>\n",
       "      <th>9046</th>\n",
       "      <td>narrative-understanding__1099</td>\n",
       "      <td>Scientists (unnamed)</td>\n",
       "      <td>\"Cautionary Voices\": This source is used to ad...</td>\n",
       "    </tr>\n",
       "  </tbody>\n",
       "</table>\n",
       "<p>9047 rows × 3 columns</p>\n",
       "</div>"
      ],
      "text/plain": [
       "                          custom_id                                     Name  \\\n",
       "0        narrative-understanding__0                     Dr. Cameron Clifford   \n",
       "1        narrative-understanding__0                             Cal Clifford   \n",
       "2        narrative-understanding__0                              Kelley Voss   \n",
       "3        narrative-understanding__0                              Meg Mindlin   \n",
       "4        narrative-understanding__0                           Vincent Nijman   \n",
       "...                             ...                                      ...   \n",
       "9042  narrative-understanding__1099                          Samuel Scarpino   \n",
       "9043  narrative-understanding__1099                            Andrew Bowman   \n",
       "9044  narrative-understanding__1099  Federal government scientists (unnamed)   \n",
       "9045  narrative-understanding__1099                        Experts (unnamed)   \n",
       "9046  narrative-understanding__1099                     Scientists (unnamed)   \n",
       "\n",
       "                                     Narrative Function  \n",
       "0     \"Protagonist/First-person Witness\": This sourc...  \n",
       "1     \"Emotional Anchor\": This source serves as the ...  \n",
       "2     \"Expert Critic\": This source is used as a subj...  \n",
       "3     \"Science Communicator\": This source provides a...  \n",
       "4     \"Industry Analyst\": This source contextualizes...  \n",
       "...                                                 ...  \n",
       "9042  \"Expert Interpreter\": This source is used to g...  \n",
       "9043  \"Independent Corroborator\": This source is use...  \n",
       "9044  \"Process Describers\": This source provides the...  \n",
       "9045  \"Safety Emphasizers\": This source is used to p...  \n",
       "9046  \"Cautionary Voices\": This source is used to ad...  \n",
       "\n",
       "[9047 rows x 3 columns]"
      ]
     },
     "execution_count": 202,
     "metadata": {},
     "output_type": "execute_result"
    }
   ],
   "source": [
    "narr_df_exp_df"
   ]
  },
  {
   "cell_type": "markdown",
   "id": "4cb03695-2ec6-449e-ae95-33980c33b51a",
   "metadata": {},
   "source": [
    "# Centrality Exploration"
   ]
  },
  {
   "cell_type": "code",
   "execution_count": 203,
   "id": "7b10e55f-31fe-4536-8667-2a62405f2b28",
   "metadata": {},
   "outputs": [
    {
     "data": {
      "text/plain": [
       "parsed_responses\n",
       "False    1036\n",
       "Name: count, dtype: int64"
      ]
     },
     "execution_count": 203,
     "metadata": {},
     "output_type": "execute_result"
    }
   ],
   "source": [
    "cent_persp_df['parsed_responses'].isnull().value_counts()"
   ]
  },
  {
   "cell_type": "code",
   "execution_count": 204,
   "id": "da56c337-c46d-438b-90b3-aea8a9ffa701",
   "metadata": {},
   "outputs": [],
   "source": [
    "cent_persp_exp_df = (\n",
    "    cent_persp_df\n",
    "        .explode('parsed_responses')\n",
    "        .loc[lambda df: df['parsed_responses'].notnull()]\n",
    "        .pipe(lambda df: pd.DataFrame(df['parsed_responses'].tolist(), index=df['custom_id']))\n",
    "        # .loc[lambda df: df['Is_Error'] == 'No']\n",
    "        .reset_index()\n",
    "        # .drop(columns='Is_Error')\n",
    ")"
   ]
  },
  {
   "cell_type": "code",
   "execution_count": 205,
   "id": "2e7f6fd8-cecb-48a7-a596-a2b2dd7aeb08",
   "metadata": {},
   "outputs": [],
   "source": [
    "persp_exp_df = cent_persp_exp_df.explode('Perspective')"
   ]
  },
  {
   "cell_type": "code",
   "execution_count": 206,
   "id": "800cbf8a-6edc-4a63-9706-0259a73733e2",
   "metadata": {},
   "outputs": [],
   "source": [
    "to_keep = persp_exp_df['Perspective'].value_counts().loc[lambda s: s  > 10].index"
   ]
  },
  {
   "cell_type": "code",
   "execution_count": 207,
   "id": "7335af76-c46a-4b42-a7bd-89ee54ddffd6",
   "metadata": {},
   "outputs": [],
   "source": [
    "persp_counts = (\n",
    "    persp_exp_df\n",
    "         .assign(c=1)\n",
    "         .pivot_table(values='c', index='custom_id', columns='Perspective', aggfunc='sum')\n",
    "         [to_keep]\n",
    "         .fillna(0)\n",
    "         .astype(int)\n",
    "         .assign(Skeptical=lambda df: df['Skeptical'] + df['Against'])\n",
    "         .drop(columns='Against')\n",
    ")"
   ]
  },
  {
   "cell_type": "code",
   "execution_count": 208,
   "id": "84f9ee55-07aa-4336-92df-cbe80b2ec84a",
   "metadata": {},
   "outputs": [
    {
     "data": {
      "text/html": [
       "<div>\n",
       "<style scoped>\n",
       "    .dataframe tbody tr th:only-of-type {\n",
       "        vertical-align: middle;\n",
       "    }\n",
       "\n",
       "    .dataframe tbody tr th {\n",
       "        vertical-align: top;\n",
       "    }\n",
       "\n",
       "    .dataframe thead th {\n",
       "        text-align: right;\n",
       "    }\n",
       "</style>\n",
       "<table border=\"1\" class=\"dataframe\">\n",
       "  <thead>\n",
       "    <tr style=\"text-align: right;\">\n",
       "      <th>Perspective</th>\n",
       "      <th>Informative</th>\n",
       "      <th>Authoritative</th>\n",
       "      <th>Supportive</th>\n",
       "      <th>Neutral</th>\n",
       "      <th>Skeptical</th>\n",
       "    </tr>\n",
       "    <tr>\n",
       "      <th>custom_id</th>\n",
       "      <th></th>\n",
       "      <th></th>\n",
       "      <th></th>\n",
       "      <th></th>\n",
       "      <th></th>\n",
       "    </tr>\n",
       "  </thead>\n",
       "  <tbody>\n",
       "    <tr>\n",
       "      <th>centrality-perspective__0</th>\n",
       "      <td>7</td>\n",
       "      <td>5</td>\n",
       "      <td>6</td>\n",
       "      <td>2</td>\n",
       "      <td>2</td>\n",
       "    </tr>\n",
       "    <tr>\n",
       "      <th>centrality-perspective__1</th>\n",
       "      <td>15</td>\n",
       "      <td>9</td>\n",
       "      <td>1</td>\n",
       "      <td>1</td>\n",
       "      <td>6</td>\n",
       "    </tr>\n",
       "    <tr>\n",
       "      <th>centrality-perspective__10</th>\n",
       "      <td>14</td>\n",
       "      <td>10</td>\n",
       "      <td>9</td>\n",
       "      <td>5</td>\n",
       "      <td>11</td>\n",
       "    </tr>\n",
       "    <tr>\n",
       "      <th>centrality-perspective__100</th>\n",
       "      <td>4</td>\n",
       "      <td>2</td>\n",
       "      <td>2</td>\n",
       "      <td>1</td>\n",
       "      <td>0</td>\n",
       "    </tr>\n",
       "    <tr>\n",
       "      <th>centrality-perspective__1000</th>\n",
       "      <td>9</td>\n",
       "      <td>8</td>\n",
       "      <td>0</td>\n",
       "      <td>1</td>\n",
       "      <td>0</td>\n",
       "    </tr>\n",
       "    <tr>\n",
       "      <th>...</th>\n",
       "      <td>...</td>\n",
       "      <td>...</td>\n",
       "      <td>...</td>\n",
       "      <td>...</td>\n",
       "      <td>...</td>\n",
       "    </tr>\n",
       "    <tr>\n",
       "      <th>centrality-perspective__995</th>\n",
       "      <td>7</td>\n",
       "      <td>5</td>\n",
       "      <td>1</td>\n",
       "      <td>0</td>\n",
       "      <td>0</td>\n",
       "    </tr>\n",
       "    <tr>\n",
       "      <th>centrality-perspective__996</th>\n",
       "      <td>4</td>\n",
       "      <td>8</td>\n",
       "      <td>5</td>\n",
       "      <td>1</td>\n",
       "      <td>4</td>\n",
       "    </tr>\n",
       "    <tr>\n",
       "      <th>centrality-perspective__997</th>\n",
       "      <td>5</td>\n",
       "      <td>3</td>\n",
       "      <td>0</td>\n",
       "      <td>1</td>\n",
       "      <td>2</td>\n",
       "    </tr>\n",
       "    <tr>\n",
       "      <th>centrality-perspective__998</th>\n",
       "      <td>8</td>\n",
       "      <td>4</td>\n",
       "      <td>0</td>\n",
       "      <td>1</td>\n",
       "      <td>0</td>\n",
       "    </tr>\n",
       "    <tr>\n",
       "      <th>centrality-perspective__999</th>\n",
       "      <td>5</td>\n",
       "      <td>2</td>\n",
       "      <td>1</td>\n",
       "      <td>0</td>\n",
       "      <td>1</td>\n",
       "    </tr>\n",
       "  </tbody>\n",
       "</table>\n",
       "<p>1034 rows × 5 columns</p>\n",
       "</div>"
      ],
      "text/plain": [
       "Perspective                   Informative  Authoritative  Supportive  Neutral  \\\n",
       "custom_id                                                                       \n",
       "centrality-perspective__0               7              5           6        2   \n",
       "centrality-perspective__1              15              9           1        1   \n",
       "centrality-perspective__10             14             10           9        5   \n",
       "centrality-perspective__100             4              2           2        1   \n",
       "centrality-perspective__1000            9              8           0        1   \n",
       "...                                   ...            ...         ...      ...   \n",
       "centrality-perspective__995             7              5           1        0   \n",
       "centrality-perspective__996             4              8           5        1   \n",
       "centrality-perspective__997             5              3           0        1   \n",
       "centrality-perspective__998             8              4           0        1   \n",
       "centrality-perspective__999             5              2           1        0   \n",
       "\n",
       "Perspective                   Skeptical  \n",
       "custom_id                                \n",
       "centrality-perspective__0             2  \n",
       "centrality-perspective__1             6  \n",
       "centrality-perspective__10           11  \n",
       "centrality-perspective__100           0  \n",
       "centrality-perspective__1000          0  \n",
       "...                                 ...  \n",
       "centrality-perspective__995           0  \n",
       "centrality-perspective__996           4  \n",
       "centrality-perspective__997           2  \n",
       "centrality-perspective__998           0  \n",
       "centrality-perspective__999           1  \n",
       "\n",
       "[1034 rows x 5 columns]"
      ]
     },
     "execution_count": 208,
     "metadata": {},
     "output_type": "execute_result"
    }
   ],
   "source": [
    "persp_counts"
   ]
  },
  {
   "cell_type": "code",
   "execution_count": 209,
   "id": "664ed8c2-6154-4089-9c69-91e60d2d233d",
   "metadata": {},
   "outputs": [
    {
     "data": {
      "text/plain": [
       "Spoken_to\n",
       "No     4651\n",
       "Yes    3572\n",
       "Name: count, dtype: int64"
      ]
     },
     "execution_count": 209,
     "metadata": {},
     "output_type": "execute_result"
    }
   ],
   "source": [
    "# .apply(lambda x: 'Yes' if \n",
    "# cent_persp_exp_df['Spoken_to'].str.split().str.get(0).value_counts()\n",
    "cent_persp_exp_df['Spoken_to'].apply(lambda x: 'No' if x == 'No' else 'Yes').value_counts()"
   ]
  },
  {
   "cell_type": "code",
   "execution_count": 210,
   "id": "be9ef66d-da63-43e7-8079-6f77b7592201",
   "metadata": {},
   "outputs": [
    {
     "data": {
      "text/plain": [
       "{'custom_id': 'centrality-perspective__1',\n",
       " 'Name': 'Dr. Peter Marks',\n",
       " 'Spoken_to': 'No',\n",
       " 'Information_Channel': 'Resignation letter was quoted by the reporter to present his perspective.',\n",
       " 'Perspective': ['Skeptical', 'Informative'],\n",
       " 'Centrality': 'High',\n",
       " 'Is_Error': 'No'}"
      ]
     },
     "execution_count": 210,
     "metadata": {},
     "output_type": "execute_result"
    }
   ],
   "source": [
    "cent_persp_exp_df.loc[lambda df: df['Spoken_to'] == 'No'].iloc[9].to_dict()"
   ]
  },
  {
   "cell_type": "markdown",
   "id": "19ee4f95-3740-4f53-9c13-13fafbac7e39",
   "metadata": {},
   "source": [
    "# Source Info"
   ]
  },
  {
   "cell_type": "code",
   "execution_count": 211,
   "id": "c75ea540-2d58-4f3e-aded-9ef408628766",
   "metadata": {},
   "outputs": [
    {
     "data": {
      "text/html": [
       "<div>\n",
       "<style scoped>\n",
       "    .dataframe tbody tr th:only-of-type {\n",
       "        vertical-align: middle;\n",
       "    }\n",
       "\n",
       "    .dataframe tbody tr th {\n",
       "        vertical-align: top;\n",
       "    }\n",
       "\n",
       "    .dataframe thead th {\n",
       "        text-align: right;\n",
       "    }\n",
       "</style>\n",
       "<table border=\"1\" class=\"dataframe\">\n",
       "  <thead>\n",
       "    <tr style=\"text-align: right;\">\n",
       "      <th></th>\n",
       "      <th>id</th>\n",
       "      <th>custom_id</th>\n",
       "      <th>response</th>\n",
       "      <th>error</th>\n",
       "      <th>parsed_responses</th>\n",
       "      <th>sources</th>\n",
       "    </tr>\n",
       "  </thead>\n",
       "  <tbody>\n",
       "    <tr>\n",
       "      <th>0</th>\n",
       "      <td>batch_req_680af09b2fdc8190a3a9a21607ace969</td>\n",
       "      <td>source-extraction__0</td>\n",
       "      <td>{'status_code': 200, 'request_id': '18ecbdfafb...</td>\n",
       "      <td>NaN</td>\n",
       "      <td>[{'Name': 'Dr. Cameron Clifford', 'Biography':...</td>\n",
       "      <td>[Dr. Cameron Clifford, Cal Clifford, Kelley Vo...</td>\n",
       "    </tr>\n",
       "    <tr>\n",
       "      <th>1</th>\n",
       "      <td>batch_req_680af09b517881908429b76ae227ecca</td>\n",
       "      <td>source-extraction__1</td>\n",
       "      <td>{'status_code': 200, 'request_id': '37c6b7cbda...</td>\n",
       "      <td>NaN</td>\n",
       "      <td>[{'Name': 'Robert F. Kennedy Jr.', 'Biography'...</td>\n",
       "      <td>[Robert F. Kennedy Jr., National Institutes of...</td>\n",
       "    </tr>\n",
       "  </tbody>\n",
       "</table>\n",
       "</div>"
      ],
      "text/plain": [
       "                                           id             custom_id  \\\n",
       "0  batch_req_680af09b2fdc8190a3a9a21607ace969  source-extraction__0   \n",
       "1  batch_req_680af09b517881908429b76ae227ecca  source-extraction__1   \n",
       "\n",
       "                                            response  error  \\\n",
       "0  {'status_code': 200, 'request_id': '18ecbdfafb...    NaN   \n",
       "1  {'status_code': 200, 'request_id': '37c6b7cbda...    NaN   \n",
       "\n",
       "                                    parsed_responses  \\\n",
       "0  [{'Name': 'Dr. Cameron Clifford', 'Biography':...   \n",
       "1  [{'Name': 'Robert F. Kennedy Jr.', 'Biography'...   \n",
       "\n",
       "                                             sources  \n",
       "0  [Dr. Cameron Clifford, Cal Clifford, Kelley Vo...  \n",
       "1  [Robert F. Kennedy Jr., National Institutes of...  "
      ]
     },
     "execution_count": 211,
     "metadata": {},
     "output_type": "execute_result"
    }
   ],
   "source": [
    "source_info_df.head(2)"
   ]
  },
  {
   "cell_type": "code",
   "execution_count": 212,
   "id": "e29150a3-6c0b-43d7-b2b1-4aecd7d09eec",
   "metadata": {},
   "outputs": [],
   "source": [
    "for df in [narr_df_exp_df, cent_persp_exp_df, source_info_exp_df]:\n",
    "    df['doc_id'] = df['custom_id'].str.split('__').str.get(1).astype(int)"
   ]
  },
  {
   "cell_type": "code",
   "execution_count": 193,
   "id": "ddc22318-7985-4c97-9102-7d2e348bf695",
   "metadata": {},
   "outputs": [],
   "source": [
    "source_info_exp_df = (\n",
    "    source_info_df\n",
    "        .explode('parsed_responses')\n",
    "        .loc[lambda df: df['parsed_responses'].notnull()]\n",
    "        .pipe(lambda df: pd.DataFrame(df['parsed_responses'].tolist(), index=df['custom_id']))\n",
    "        .reset_index()\n",
    ")"
   ]
  },
  {
   "cell_type": "code",
   "execution_count": 221,
   "id": "99f9968b-24d3-4f03-b594-4cbeb1073503",
   "metadata": {
    "scrolled": true
   },
   "outputs": [],
   "source": [
    "full_source_df = (\n",
    "    source_info_exp_df\n",
    "         .drop(columns='custom_id')\n",
    "         .merge(narr_df_exp_df.drop(columns='custom_id'), on=['doc_id', 'Name'])\n",
    "         .merge(cent_persp_exp_df.drop(columns='custom_id'), on=['doc_id', 'Name'], how='left')\n",
    ")"
   ]
  },
  {
   "cell_type": "code",
   "execution_count": 249,
   "id": "be202ee0-259d-4b34-b383-471f43b4645b",
   "metadata": {
    "scrolled": true
   },
   "outputs": [
    {
     "data": {
      "text/html": [
       "<div>\n",
       "<style scoped>\n",
       "    .dataframe tbody tr th:only-of-type {\n",
       "        vertical-align: middle;\n",
       "    }\n",
       "\n",
       "    .dataframe tbody tr th {\n",
       "        vertical-align: top;\n",
       "    }\n",
       "\n",
       "    .dataframe thead th {\n",
       "        text-align: right;\n",
       "    }\n",
       "</style>\n",
       "<table border=\"1\" class=\"dataframe\">\n",
       "  <thead>\n",
       "    <tr style=\"text-align: right;\">\n",
       "      <th></th>\n",
       "      <th>id</th>\n",
       "      <th>custom_id</th>\n",
       "      <th>response</th>\n",
       "      <th>error</th>\n",
       "      <th>parsed_responses</th>\n",
       "      <th>sources</th>\n",
       "    </tr>\n",
       "  </thead>\n",
       "  <tbody>\n",
       "    <tr>\n",
       "      <th>0</th>\n",
       "      <td>batch_req_680af09b2fdc8190a3a9a21607ace969</td>\n",
       "      <td>source-extraction__0</td>\n",
       "      <td>{'status_code': 200, 'request_id': '18ecbdfafb...</td>\n",
       "      <td>NaN</td>\n",
       "      <td>[{'Name': 'Dr. Cameron Clifford', 'Biography':...</td>\n",
       "      <td>[Dr. Cameron Clifford, Cal Clifford, Kelley Vo...</td>\n",
       "    </tr>\n",
       "    <tr>\n",
       "      <th>1</th>\n",
       "      <td>batch_req_680af09b517881908429b76ae227ecca</td>\n",
       "      <td>source-extraction__1</td>\n",
       "      <td>{'status_code': 200, 'request_id': '37c6b7cbda...</td>\n",
       "      <td>NaN</td>\n",
       "      <td>[{'Name': 'Robert F. Kennedy Jr.', 'Biography'...</td>\n",
       "      <td>[Robert F. Kennedy Jr., National Institutes of...</td>\n",
       "    </tr>\n",
       "    <tr>\n",
       "      <th>2</th>\n",
       "      <td>batch_req_680af09b764c81908d0f50966152633c</td>\n",
       "      <td>source-extraction__2</td>\n",
       "      <td>{'status_code': 200, 'request_id': '56777596ce...</td>\n",
       "      <td>NaN</td>\n",
       "      <td>[{'Name': 'Jonathan McDowell', 'Biography': 'J...</td>\n",
       "      <td>[Jonathan McDowell, The New York Times (interv...</td>\n",
       "    </tr>\n",
       "    <tr>\n",
       "      <th>3</th>\n",
       "      <td>batch_req_680af09ba4608190982521d444f14687</td>\n",
       "      <td>source-extraction__3</td>\n",
       "      <td>{'status_code': 200, 'request_id': '75ac704d99...</td>\n",
       "      <td>NaN</td>\n",
       "      <td>[{'Name': 'Robert F. Kennedy Jr.', 'Biography'...</td>\n",
       "      <td>[Robert F. Kennedy Jr., Andrew Nixon, Dr. Mart...</td>\n",
       "    </tr>\n",
       "    <tr>\n",
       "      <th>4</th>\n",
       "      <td>batch_req_680af09bcf848190ae04f3472b231d10</td>\n",
       "      <td>source-extraction__4</td>\n",
       "      <td>{'status_code': 200, 'request_id': '68f71952f4...</td>\n",
       "      <td>NaN</td>\n",
       "      <td>[{'Name': 'Trump administration', 'Biography':...</td>\n",
       "      <td>[Trump administration, The New York Times, Ear...</td>\n",
       "    </tr>\n",
       "    <tr>\n",
       "      <th>...</th>\n",
       "      <td>...</td>\n",
       "      <td>...</td>\n",
       "      <td>...</td>\n",
       "      <td>...</td>\n",
       "      <td>...</td>\n",
       "      <td>...</td>\n",
       "    </tr>\n",
       "    <tr>\n",
       "      <th>1095</th>\n",
       "      <td>batch_req_680af13dbc04819086c28a0094b36f3b</td>\n",
       "      <td>source-extraction__1095</td>\n",
       "      <td>{'status_code': 200, 'request_id': '76684a8ab1...</td>\n",
       "      <td>NaN</td>\n",
       "      <td>[{'Name': 'Philips Respironics', 'Biography': ...</td>\n",
       "      <td>[Philips Respironics, Plaintiffs’ lawyers Sand...</td>\n",
       "    </tr>\n",
       "    <tr>\n",
       "      <th>1096</th>\n",
       "      <td>batch_req_680af13ddf28819089bb88f3a254a9c6</td>\n",
       "      <td>source-extraction__1096</td>\n",
       "      <td>{'status_code': 200, 'request_id': '66737daf47...</td>\n",
       "      <td>NaN</td>\n",
       "      <td>[{'Name': 'Researchers in Taiwan', 'Biography'...</td>\n",
       "      <td>[Researchers in Taiwan, Dr. Vivek H. Murthy, t...</td>\n",
       "    </tr>\n",
       "    <tr>\n",
       "      <th>1097</th>\n",
       "      <td>batch_req_680af13e01e48190921fc8ef24f1c126</td>\n",
       "      <td>source-extraction__1097</td>\n",
       "      <td>{'status_code': 200, 'request_id': 'bad19e60c2...</td>\n",
       "      <td>NaN</td>\n",
       "      <td>[{'Name': 'Karla Bloem', 'Biography': 'Executi...</td>\n",
       "      <td>[Karla Bloem, Bob Sallinger, Wayne Pacelle, Co...</td>\n",
       "    </tr>\n",
       "    <tr>\n",
       "      <th>1098</th>\n",
       "      <td>batch_req_680af13e324081909d77fbc3b88a4748</td>\n",
       "      <td>source-extraction__1098</td>\n",
       "      <td>{'status_code': 200, 'request_id': 'f381632006...</td>\n",
       "      <td>NaN</td>\n",
       "      <td>[{'Name': 'Center for Disease Analysis Foundat...</td>\n",
       "      <td>[Center for Disease Analysis Foundation, Cente...</td>\n",
       "    </tr>\n",
       "    <tr>\n",
       "      <th>1099</th>\n",
       "      <td>batch_req_680af13e608881909521a3cf6f31122b</td>\n",
       "      <td>source-extraction__1099</td>\n",
       "      <td>{'status_code': 200, 'request_id': '9a40f2d55a...</td>\n",
       "      <td>NaN</td>\n",
       "      <td>[{'Name': 'Food and Drug Administration (F.D.A...</td>\n",
       "      <td>[Food and Drug Administration (F.D.A.), Samuel...</td>\n",
       "    </tr>\n",
       "  </tbody>\n",
       "</table>\n",
       "<p>1100 rows × 6 columns</p>\n",
       "</div>"
      ],
      "text/plain": [
       "                                              id                custom_id  \\\n",
       "0     batch_req_680af09b2fdc8190a3a9a21607ace969     source-extraction__0   \n",
       "1     batch_req_680af09b517881908429b76ae227ecca     source-extraction__1   \n",
       "2     batch_req_680af09b764c81908d0f50966152633c     source-extraction__2   \n",
       "3     batch_req_680af09ba4608190982521d444f14687     source-extraction__3   \n",
       "4     batch_req_680af09bcf848190ae04f3472b231d10     source-extraction__4   \n",
       "...                                          ...                      ...   \n",
       "1095  batch_req_680af13dbc04819086c28a0094b36f3b  source-extraction__1095   \n",
       "1096  batch_req_680af13ddf28819089bb88f3a254a9c6  source-extraction__1096   \n",
       "1097  batch_req_680af13e01e48190921fc8ef24f1c126  source-extraction__1097   \n",
       "1098  batch_req_680af13e324081909d77fbc3b88a4748  source-extraction__1098   \n",
       "1099  batch_req_680af13e608881909521a3cf6f31122b  source-extraction__1099   \n",
       "\n",
       "                                               response  error  \\\n",
       "0     {'status_code': 200, 'request_id': '18ecbdfafb...    NaN   \n",
       "1     {'status_code': 200, 'request_id': '37c6b7cbda...    NaN   \n",
       "2     {'status_code': 200, 'request_id': '56777596ce...    NaN   \n",
       "3     {'status_code': 200, 'request_id': '75ac704d99...    NaN   \n",
       "4     {'status_code': 200, 'request_id': '68f71952f4...    NaN   \n",
       "...                                                 ...    ...   \n",
       "1095  {'status_code': 200, 'request_id': '76684a8ab1...    NaN   \n",
       "1096  {'status_code': 200, 'request_id': '66737daf47...    NaN   \n",
       "1097  {'status_code': 200, 'request_id': 'bad19e60c2...    NaN   \n",
       "1098  {'status_code': 200, 'request_id': 'f381632006...    NaN   \n",
       "1099  {'status_code': 200, 'request_id': '9a40f2d55a...    NaN   \n",
       "\n",
       "                                       parsed_responses  \\\n",
       "0     [{'Name': 'Dr. Cameron Clifford', 'Biography':...   \n",
       "1     [{'Name': 'Robert F. Kennedy Jr.', 'Biography'...   \n",
       "2     [{'Name': 'Jonathan McDowell', 'Biography': 'J...   \n",
       "3     [{'Name': 'Robert F. Kennedy Jr.', 'Biography'...   \n",
       "4     [{'Name': 'Trump administration', 'Biography':...   \n",
       "...                                                 ...   \n",
       "1095  [{'Name': 'Philips Respironics', 'Biography': ...   \n",
       "1096  [{'Name': 'Researchers in Taiwan', 'Biography'...   \n",
       "1097  [{'Name': 'Karla Bloem', 'Biography': 'Executi...   \n",
       "1098  [{'Name': 'Center for Disease Analysis Foundat...   \n",
       "1099  [{'Name': 'Food and Drug Administration (F.D.A...   \n",
       "\n",
       "                                                sources  \n",
       "0     [Dr. Cameron Clifford, Cal Clifford, Kelley Vo...  \n",
       "1     [Robert F. Kennedy Jr., National Institutes of...  \n",
       "2     [Jonathan McDowell, The New York Times (interv...  \n",
       "3     [Robert F. Kennedy Jr., Andrew Nixon, Dr. Mart...  \n",
       "4     [Trump administration, The New York Times, Ear...  \n",
       "...                                                 ...  \n",
       "1095  [Philips Respironics, Plaintiffs’ lawyers Sand...  \n",
       "1096  [Researchers in Taiwan, Dr. Vivek H. Murthy, t...  \n",
       "1097  [Karla Bloem, Bob Sallinger, Wayne Pacelle, Co...  \n",
       "1098  [Center for Disease Analysis Foundation, Cente...  \n",
       "1099  [Food and Drug Administration (F.D.A.), Samuel...  \n",
       "\n",
       "[1100 rows x 6 columns]"
      ]
     },
     "execution_count": 249,
     "metadata": {},
     "output_type": "execute_result"
    }
   ],
   "source": [
    "source_info_df"
   ]
  },
  {
   "cell_type": "code",
   "execution_count": 240,
   "id": "09afe5c3-2cf8-4c34-8028-2190193d25c4",
   "metadata": {},
   "outputs": [],
   "source": [
    "to_group = ['Name',\n",
    " 'Biography',\n",
    " 'Information',\n",
    " 'Narrative Function',\n",
    " 'Spoken_to',\n",
    " 'Information_Channel',\n",
    " 'Perspective',\n",
    " 'Centrality']\n",
    "\n",
    "doc_source_data = (\n",
    "    full_source_df\n",
    "        .assign(Centrality=lambda df: df['Centrality'].apply(lambda x: x if x in ['High', 'Medium', 'Low'] else 'Low'))\n",
    "        .loc[lambda df: df['Is_Error'] == 'No']\n",
    "        .drop(columns='Is_Error')\n",
    "        .groupby('doc_id').apply(lambda df: df[to_group].to_dict(orient='records')) \n",
    ")\n",
    "\n",
    "doc_source_data.to_json('../app/app_data/doc_source_data.jsonl')"
   ]
  },
  {
   "cell_type": "code",
   "execution_count": 245,
   "id": "59a5aaf5-2c05-4480-a93c-af02de5b63cf",
   "metadata": {},
   "outputs": [
    {
     "data": {
      "text/plain": [
       "{'Name': 'Dr. Cameron Clifford...',\n",
       " 'Biography': 'A dentist from Oklahoma and the father of Cal Clifford, who became widely known in 2023 after his fa...',\n",
       " 'Information': 'Dr. Cameron Clifford explained the entire timeline of events: buying a pet octopus named Terrance fo...',\n",
       " 'Narrative Function': '\"Protagonist/First-person Witness\": This source acts as the main character of the narrative and a fi...',\n",
       " 'Spoken_to': 'Yes...',\n",
       " 'Information_Channel': None,\n",
       " 'Perspective': ['Authoritative', 'Informative', 'Supportive'],\n",
       " 'Centrality': 'High...'}"
      ]
     },
     "execution_count": 245,
     "metadata": {},
     "output_type": "execute_result"
    }
   ],
   "source": [
    "pd.Series(doc_source_data[0][0]).apply(lambda x: x[:100] + '...' if isinstance(x, str) else x).to_dict()"
   ]
  },
  {
   "cell_type": "code",
   "execution_count": 247,
   "id": "77299c72-4083-472d-bcff-19c64f616340",
   "metadata": {},
   "outputs": [
    {
     "data": {
      "text/plain": [
       "4"
      ]
     },
     "execution_count": 247,
     "metadata": {},
     "output_type": "execute_result"
    }
   ],
   "source": [
    "len(doc_source_data[34])"
   ]
  },
  {
   "cell_type": "code",
   "execution_count": 251,
   "id": "7dfc1c11-7fac-452a-b0d6-ef94c5ff414c",
   "metadata": {},
   "outputs": [
    {
     "name": "stdout",
     "output_type": "stream",
     "text": [
      "file-cache.csv\n",
      "\u001b[34mfound-science-articles\u001b[m\u001b[m/\n",
      "\u001b[34moutput_data\u001b[m\u001b[m/\n",
      "science_articles-with-parsed-files.json.gz\n",
      "science_articles.json.gz\n"
     ]
    }
   ],
   "source": [
    "ls ../data/"
   ]
  },
  {
   "cell_type": "code",
   "execution_count": 253,
   "id": "9f94ca1d-4d4e-410e-aaeb-9434b3ba041d",
   "metadata": {},
   "outputs": [],
   "source": [
    "full_source_df.to_json('../data/full-parsed-source-df.jsonl', orient='records', lines=True)"
   ]
  },
  {
   "cell_type": "code",
   "execution_count": null,
   "id": "9ec93eb5-5da5-4dec-b786-bbb7b2ad37b1",
   "metadata": {},
   "outputs": [],
   "source": []
  }
 ],
 "metadata": {
  "kernelspec": {
   "display_name": "Python 3 (ipykernel)",
   "language": "python",
   "name": "python3"
  },
  "language_info": {
   "codemirror_mode": {
    "name": "ipython",
    "version": 3
   },
   "file_extension": ".py",
   "mimetype": "text/x-python",
   "name": "python",
   "nbconvert_exporter": "python",
   "pygments_lexer": "ipython3",
   "version": "3.12.2"
  }
 },
 "nbformat": 4,
 "nbformat_minor": 5
}
